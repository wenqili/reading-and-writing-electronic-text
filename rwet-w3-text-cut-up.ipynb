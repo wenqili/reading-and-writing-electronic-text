{
 "cells": [
  {
   "cell_type": "markdown",
   "metadata": {},
   "source": [
    "### The digital cut-up. \n",
    "[Y] Create a notebook program that reads in two or more texts.\n",
    "\n",
    "[Y] stores portions of them in Python data structures. \n",
    "\n",
    "[Y] The program should create textual output that creatively rearranges the contents of the text. \n",
    "\n",
    "[Y] Use functions from the random module as appropriate. \n",
    "\n",
    "[Y] You must use lists and dictionaries as part of your procedure. \n",
    "\n",
    "[Y] Choose one text that you created with your program to present in class."
   ]
  },
  {
   "cell_type": "markdown",
   "metadata": {},
   "source": [
    "\n",
    "# Subway campaign cut up"
   ]
  },
  {
   "cell_type": "markdown",
   "metadata": {},
   "source": [
    "### Most subways campaign ends up being partly amusing, partly annoying.\n",
    "### I picked up three of them that somehow reveal the life they try to sell to New Yorkers.\n"
   ]
  },
  {
   "cell_type": "code",
   "execution_count": 351,
   "metadata": {
    "collapsed": true
   },
   "outputs": [],
   "source": [
    "import random"
   ]
  },
  {
   "cell_type": "code",
   "execution_count": 352,
   "metadata": {
    "collapsed": true
   },
   "outputs": [],
   "source": [
    "fiverr = [line for line in open(\"fiverr.txt\")]\n",
    "okcupid = [line for line in open(\"okcupid.txt\")]\n",
    "streeteasy = [line for line in open(\"streeteasy.txt\")]"
   ]
  },
  {
   "cell_type": "code",
   "execution_count": 353,
   "metadata": {
    "collapsed": true
   },
   "outputs": [],
   "source": [
    "fiverr_lines = [line.strip() for line in fiverr]\n",
    "okcupid_lines = [line.strip() for line in okcupid]\n",
    "streeteasy_lines = [line.strip() for line in streeteasy]"
   ]
  },
  {
   "cell_type": "markdown",
   "metadata": {},
   "source": [
    "clean up okcupid"
   ]
  },
  {
   "cell_type": "code",
   "execution_count": 354,
   "metadata": {
    "collapsed": true
   },
   "outputs": [],
   "source": [
    "okcupid_units = [term[8:len(term)-1] for term in okcupid_lines if 'Down to ' in term]"
   ]
  },
  {
   "cell_type": "markdown",
   "metadata": {},
   "source": [
    "clean up streeteasy"
   ]
  },
  {
   "cell_type": "code",
   "execution_count": 355,
   "metadata": {
    "collapsed": true
   },
   "outputs": [],
   "source": [
    "streeteasy_units = [term.replace(\"I’m\", \"you’re\") for term in streeteasy_lines]\n",
    "streeteasy_units = [term.replace(\"I’ll\", \"You‘ll\") for term in streeteasy_units]\n",
    "streeteasy_units = [term.replace(\" me \", \" you \") for term in streeteasy_units]\n",
    "streeteasy_units = [term.replace(\" me.\", \" you.\") for term in streeteasy_units]\n",
    "streeteasy_units = [term.replace(\"I \", \"you \") for term in streeteasy_units]\n",
    "streeteasy_units = [term.replace(\" my \", \" your \") for term in streeteasy_units]"
   ]
  },
  {
   "cell_type": "code",
   "execution_count": 356,
   "metadata": {
    "collapsed": true
   },
   "outputs": [],
   "source": [
    "form = random.sample(streeteasy_units, 1)"
   ]
  },
  {
   "cell_type": "code",
   "execution_count": 357,
   "metadata": {
    "collapsed": true
   },
   "outputs": [],
   "source": [
    "words = form[0].split(\" \")\n",
    "for i in range(len(words)):\n",
    "    if '[]' in words[i]:\n",
    "        words[i] = '[]'\n",
    "    elif '.' in words[i]:\n",
    "        words[i] = words[i][:len(words[i])-1]"
   ]
  },
  {
   "cell_type": "code",
   "execution_count": 358,
   "metadata": {
    "collapsed": true
   },
   "outputs": [],
   "source": [
    "clean = [word.replace('[]', random.sample(okcupid_units, 1)[0]) for word in words]\n",
    "# random.shuffle(clean)"
   ]
  },
  {
   "cell_type": "markdown",
   "metadata": {},
   "source": [
    "mix fiverr"
   ]
  },
  {
   "cell_type": "code",
   "execution_count": 359,
   "metadata": {
    "scrolled": true
   },
   "outputs": [
    {
     "name": "stdout",
     "output_type": "stream",
     "text": [
      "[['Discover', 'an', 'of', 'that', 'Franchise', 'Start'], ['big', 'an', 'that'], ['bubbles', 'that', 'Start'], ['a', 'might', 'Thinking', 'Ask']]\n"
     ]
    }
   ],
   "source": [
    "fiverr_all_lines = []\n",
    "temp_lines = []\n",
    "pick_lines = [\"\" for i in range(4)]\n",
    "for i in range(len(fiverr_lines)):\n",
    "    fiverr_all_lines = fiverr_all_lines + fiverr_lines[i].split(\" \")\n",
    "for j in range(4):\n",
    "    lines = random.sample(fiverr_all_lines, random.randint(3,7))\n",
    "    lines = [line.replace(\".\",\"\") for line in lines]\n",
    "    pick_lines[j] = lines\n",
    "    pick_lines[j] = [word for word in pick_lines[j] if len(word)>0]\n",
    "print(pick_lines)"
   ]
  },
  {
   "cell_type": "code",
   "execution_count": 360,
   "metadata": {},
   "outputs": [
    {
     "name": "stdout",
     "output_type": "stream",
     "text": [
      "Discover an of that Franchise Start\n",
      "big an that\n",
      "bubbles that Start\n",
      "a might Thinking Ask\n",
      "you fell in love with a Jersey girl, so now you’re looking near the farmer's market.\n"
     ]
    }
   ],
   "source": [
    "print(\" \".join(pick_lines[0]))\n",
    "print(\" \".join(pick_lines[1]))\n",
    "print(\" \".join(pick_lines[2]))\n",
    "print(\" \".join(pick_lines[3]))\n",
    "print(\" \".join(clean)+\".\")"
   ]
  },
  {
   "cell_type": "code",
   "execution_count": null,
   "metadata": {
    "collapsed": true
   },
   "outputs": [],
   "source": []
  }
 ],
 "metadata": {
  "kernelspec": {
   "display_name": "Python 3",
   "language": "python",
   "name": "python3"
  },
  "language_info": {
   "codemirror_mode": {
    "name": "ipython",
    "version": 3
   },
   "file_extension": ".py",
   "mimetype": "text/x-python",
   "name": "python",
   "nbconvert_exporter": "python",
   "pygments_lexer": "ipython3",
   "version": "3.6.3"
  }
 },
 "nbformat": 4,
 "nbformat_minor": 2
}
