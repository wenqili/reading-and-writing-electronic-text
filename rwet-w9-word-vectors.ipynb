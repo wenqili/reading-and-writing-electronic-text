{
 "cells": [
  {
   "cell_type": "markdown",
   "metadata": {},
   "source": [
    "Word Vector Assignment"
   ]
  },
  {
   "cell_type": "code",
   "execution_count": 2,
   "metadata": {
    "collapsed": true
   },
   "outputs": [],
   "source": [
    "import spacy"
   ]
  },
  {
   "cell_type": "code",
   "execution_count": 3,
   "metadata": {
    "collapsed": true
   },
   "outputs": [],
   "source": [
    "nlp = spacy.load('en_core_web_md')"
   ]
  },
  {
   "cell_type": "code",
   "execution_count": 4,
   "metadata": {
    "collapsed": true
   },
   "outputs": [],
   "source": [
    "doc = nlp(open(\"500daysofsummer.txt\").read())\n",
    "tokens = list(set([w.text for w in doc if w.is_alpha]))\n",
    "# tokens"
   ]
  },
  {
   "cell_type": "code",
   "execution_count": 5,
   "metadata": {},
   "outputs": [
    {
     "data": {
      "text/plain": [
       "array([ -2.27430001e-01,  -5.14639989e-02,  -4.34210002e-02,\n",
       "        -1.05230004e-01,  -3.33889991e-01,  -4.96109992e-01,\n",
       "        -6.43419981e-01,  -4.69940007e-01,   3.96930009e-01,\n",
       "         8.49020004e-01,  -4.08450007e-01,  -1.83119997e-01,\n",
       "        -6.25639975e-01,  -1.01599999e-01,  -3.69139999e-01,\n",
       "         6.86339974e-01,   2.66070008e-01,   3.29849988e-01,\n",
       "        -9.85699967e-02,  -1.32809997e-01,  -4.75050002e-01,\n",
       "        -1.92489997e-01,  -3.19169998e-01,  -1.85360000e-01,\n",
       "         1.11180000e-01,   7.37719983e-02,  -3.04069996e-01,\n",
       "        -2.75519997e-01,   6.11079991e-01,  -3.63440007e-01,\n",
       "        -4.58490014e-01,  -1.28720000e-01,   1.51749998e-01,\n",
       "         3.32480013e-01,   3.08999985e-01,  -2.84880012e-01,\n",
       "         2.55439997e-01,  -9.43319976e-01,  -5.57460010e-01,\n",
       "         5.87639995e-02,   1.11740001e-01,   2.00320005e-01,\n",
       "        -4.10899997e-01,  -5.44439971e-01,  -4.38309982e-02,\n",
       "         1.62650004e-01,  -6.80280030e-01,   2.82660007e-01,\n",
       "         1.81769997e-01,  -5.61839998e-01,   7.09109977e-02,\n",
       "        -3.49959999e-01,  -3.16390008e-01,   1.76660001e-01,\n",
       "        -9.45680030e-03,   4.43890005e-01,   7.66839981e-02,\n",
       "        -2.17969999e-01,   1.37279998e-03,   2.34740004e-01,\n",
       "        -1.85640007e-01,  -4.22769994e-01,   2.55849987e-01,\n",
       "        -6.25530005e-01,  -1.43350005e-01,  -1.88350007e-01,\n",
       "         3.52400005e-01,   2.07640007e-01,   8.86439979e-02,\n",
       "        -2.08729997e-01,  -3.90810013e-01,  -1.50790006e-01,\n",
       "        -3.44689995e-01,  -3.21280003e-01,  -1.20940000e-01,\n",
       "        -6.64439984e-03,  -1.67420000e-01,  -3.54119986e-01,\n",
       "         3.54570001e-01,  -6.87290013e-01,   4.27179992e-01,\n",
       "         3.27389985e-01,  -5.21889985e-01,   1.90160006e-01,\n",
       "        -2.02030003e-01,  -2.51030009e-02,   1.41700006e+00,\n",
       "         5.48640013e-01,   6.32319987e-01,   9.10779983e-02,\n",
       "         1.66140005e-01,   6.42250001e-01,   9.42849964e-02,\n",
       "        -5.88769972e-01,  -5.80169976e-01,   2.41999999e-02,\n",
       "        -5.97180016e-02,  -2.03559995e-01,   3.67870003e-01,\n",
       "        -2.15990003e-04,   1.26420006e-01,   2.18630001e-01,\n",
       "         1.47829995e-01,   1.14560001e-01,   5.17250001e-01,\n",
       "        -5.23790002e-01,   1.99200004e-01,  -3.41569990e-01,\n",
       "        -4.56790000e-01,  -3.62489998e-01,  -1.58940002e-01,\n",
       "         4.13260013e-01,   3.30379993e-01,  -6.07919991e-01,\n",
       "         3.38370018e-02,  -1.31850004e-01,  -2.39429995e-01,\n",
       "         2.09580004e-01,   5.46469986e-01,  -1.61660001e-01,\n",
       "        -8.49860013e-02,  -3.70660005e-03,   4.18130010e-01,\n",
       "        -6.28130019e-01,  -1.55959994e-01,   2.71739990e-01,\n",
       "         2.67490000e-01,  -3.14660013e-01,  -3.00049990e-01,\n",
       "        -1.17539999e-03,  -7.65639991e-02,  -4.15960014e-01,\n",
       "        -5.12009978e-01,   3.39949995e-01,   3.35150003e-01,\n",
       "         2.31810004e-01,  -2.31260002e-01,   6.48670018e-01,\n",
       "        -1.73270002e-01,   2.19060004e-01,  -2.48250008e+00,\n",
       "        -3.82530004e-01,  -2.75009990e-01,   3.82499993e-01,\n",
       "         3.99089992e-01,  -3.47660005e-01,  -3.47499996e-01,\n",
       "         1.14229999e-01,   3.84259999e-01,  -4.53969985e-02,\n",
       "         3.30790013e-01,   3.06109995e-01,  -1.63650006e-01,\n",
       "        -2.18400002e-01,  -4.96219993e-01,   3.20690006e-01,\n",
       "        -1.00560002e-01,   4.79649991e-01,  -6.16919994e-01,\n",
       "        -7.10389972e-01,   6.72939979e-03,  -1.37600005e-01,\n",
       "        -2.45340005e-01,  -6.32000029e-01,  -1.35810003e-01,\n",
       "         5.06570004e-02,  -2.64970005e-01,   4.73500006e-02,\n",
       "        -2.16700003e-01,   1.19750001e-01,  -1.59299999e-01,\n",
       "         6.50969967e-02,   6.28329992e-01,  -4.14849997e-01,\n",
       "        -4.90770012e-01,   5.33590019e-01,  -2.85120010e-01,\n",
       "        -6.87379986e-02,  -1.59209996e-01,   7.19609976e-01,\n",
       "        -9.95189995e-02,  -4.43820000e-01,   1.29370004e-01,\n",
       "        -3.00419986e-01,  -4.53449994e-01,  -1.21330000e-01,\n",
       "        -5.75889982e-02,   1.76150003e-03,  -1.40159994e-01,\n",
       "        -5.43479979e-01,  -2.73130000e-01,   7.91470036e-02,\n",
       "         9.23260003e-02,  -3.28810006e-01,   4.27040011e-01,\n",
       "         2.20249996e-01,  -2.81839997e-01,  -1.06679998e-01,\n",
       "         7.89950013e-01,   1.04330003e-01,  -7.11600006e-01,\n",
       "         5.08750021e-01,  -4.48989987e-01,  -1.58140004e-01,\n",
       "         8.90310034e-02,   1.97789997e-01,   1.78320006e-01,\n",
       "        -1.58370003e-01,   4.19200003e-01,   1.15249999e-01,\n",
       "        -5.61510026e-01,   1.59769994e-03,  -6.34710014e-01,\n",
       "         1.73690006e-01,  -1.66600004e-01,   1.12209998e-01,\n",
       "        -6.84550032e-02,   2.52849996e-01,   3.22070003e-01,\n",
       "        -9.73789990e-02,  -6.07049987e-02,   2.16139993e-03,\n",
       "         4.79620010e-01,  -6.21259987e-01,  -3.85080010e-01,\n",
       "        -3.39290015e-02,   1.64499998e-01,   8.48559976e-01,\n",
       "         1.67989999e-01,   7.00920001e-02,  -3.71760011e-01,\n",
       "         3.37989986e-01,  -4.43809986e-01,  -4.17670012e-01,\n",
       "         4.54030007e-01,  -1.24100000e-01,  -1.20789997e-01,\n",
       "        -1.72610000e-01,   6.01239979e-01,  -4.04540002e-01,\n",
       "        -7.56489992e-01,  -8.00929964e-02,  -4.01630014e-01,\n",
       "         1.41120002e-01,  -1.03500001e-01,  -3.30890007e-02,\n",
       "         1.14929996e-01,   5.87339997e-01,   3.38079989e-01,\n",
       "         2.37120003e-01,  -1.81189999e-01,  -9.04619992e-02,\n",
       "        -7.50899985e-02,   3.00949991e-01,   2.42880002e-01,\n",
       "        -1.19099997e-01,  -7.98820019e-01,   1.85900003e-01,\n",
       "         1.88690007e-01,  -3.06439996e-01,  -1.16990000e-01,\n",
       "        -1.99249998e-01,  -2.58680005e-02,  -1.90410003e-01,\n",
       "        -2.10179999e-01,   3.73439997e-01,  -4.62689996e-01,\n",
       "        -2.22800002e-01,  -3.75299990e-01,  -2.10849997e-02,\n",
       "        -4.12360013e-01,   7.10030019e-01,  -1.32080004e-01,\n",
       "         1.57490000e-01,  -2.31069997e-01,   1.02450000e-02,\n",
       "         1.26000002e-01,   2.53969997e-01,   4.68010008e-02,\n",
       "         8.99000000e-03,   2.92459995e-01,   1.71409994e-01,\n",
       "         1.79199994e-01,  -4.31890011e-01,   5.12139976e-01,\n",
       "         4.92559999e-01,   3.19449991e-01,  -3.59429985e-01,\n",
       "         1.00879997e-01,  -3.75149995e-01,   2.12810002e-02,\n",
       "         2.02470005e-01,  -3.42379995e-02,   3.35110009e-01,\n",
       "        -4.28079993e-01,   7.49679983e-01,  -1.21359996e-01,\n",
       "         4.35389996e-01,   1.50979996e-01,  -1.59520000e-01], dtype=float32)"
      ]
     },
     "execution_count": 5,
     "metadata": {},
     "output_type": "execute_result"
    }
   ],
   "source": [
    "nlp.vocab['kitten'].vector"
   ]
  },
  {
   "cell_type": "code",
   "execution_count": 6,
   "metadata": {
    "collapsed": true
   },
   "outputs": [],
   "source": [
    "def vec(s):\n",
    "    return nlp.vocab[s].vector"
   ]
  },
  {
   "cell_type": "code",
   "execution_count": 7,
   "metadata": {
    "collapsed": true
   },
   "outputs": [],
   "source": [
    "import numpy as np\n",
    "from numpy import dot\n",
    "from numpy.linalg import norm"
   ]
  },
  {
   "cell_type": "code",
   "execution_count": 8,
   "metadata": {
    "collapsed": true
   },
   "outputs": [],
   "source": [
    "def cosine(v1, v2):\n",
    "    if norm(v1) > 0 and norm(v2) > 0:\n",
    "        return dot(v1, v2) / (norm(v1) * norm(v2))\n",
    "    else:\n",
    "        return 0.0"
   ]
  },
  {
   "cell_type": "code",
   "execution_count": 9,
   "metadata": {
    "collapsed": true
   },
   "outputs": [],
   "source": [
    "def spacy_closest(token_list, vec_to_check, n=10):\n",
    "    return sorted(token_list,\n",
    "                 key=lambda x: cosine(vec_to_check, vec(x)),\n",
    "                 reverse=True)[:n]"
   ]
  },
  {
   "cell_type": "code",
   "execution_count": 10,
   "metadata": {},
   "outputs": [
    {
     "data": {
      "text/plain": [
       "['depressed',\n",
       " 'ANXIOUS',\n",
       " 'suicidal',\n",
       " 'frustrated',\n",
       " 'miserable',\n",
       " 'sad',\n",
       " 'bored',\n",
       " 'Bored',\n",
       " 'feeling',\n",
       " 'unenthusiastic']"
      ]
     },
     "execution_count": 10,
     "metadata": {},
     "output_type": "execute_result"
    }
   ],
   "source": [
    "spacy_closest(tokens, vec(\"depressed\"))"
   ]
  },
  {
   "cell_type": "code",
   "execution_count": 11,
   "metadata": {
    "collapsed": true
   },
   "outputs": [],
   "source": [
    "def meanv(coords):\n",
    "    sumv = [0] * len(coords[0])\n",
    "    for item in coords:\n",
    "        for i in range(len(item)):\n",
    "            sumv[i] += item[i]\n",
    "    mean = [0] * len(sumv)\n",
    "    for i in range(len(sumv)):\n",
    "        mean[i] = float(sumv[i]) / len(coords)\n",
    "    return mean"
   ]
  },
  {
   "cell_type": "code",
   "execution_count": 15,
   "metadata": {
    "collapsed": true
   },
   "outputs": [],
   "source": [
    "def sentvec(s):\n",
    "    sent = nlp(s)\n",
    "    return meanv([w.vector for w in sent])"
   ]
  },
  {
   "cell_type": "code",
   "execution_count": 16,
   "metadata": {
    "collapsed": true
   },
   "outputs": [],
   "source": [
    "sentences = list(doc.sents)"
   ]
  },
  {
   "cell_type": "code",
   "execution_count": 17,
   "metadata": {
    "collapsed": true
   },
   "outputs": [],
   "source": [
    "def spacy_closest_sent(space, input_str, n=10):\n",
    "    input_vec = sentvec(input_str)\n",
    "    return sorted(space,\n",
    "                  key=lambda x: cosine(np.mean([w.vector for w in x], axis=0), input_vec), \n",
    "                  reverse=True)[:n]"
   ]
  },
  {
   "cell_type": "code",
   "execution_count": 25,
   "metadata": {},
   "outputs": [
    {
     "data": {
      "text/plain": [
       "[\"I'm tired.\",\n",
       " \"I'm happy.\",\n",
       " \"I'm happy.\",\n",
       " \"I'm not pissed.\",\n",
       " \"I'm desperate.\",\n",
       " \"I'm sorry.\",\n",
       " \"I'm still unemployed.\",\n",
       " \"I'm starving.\",\n",
       " \"I'm good.\",\n",
       " \"I'm good.\"]"
      ]
     },
     "execution_count": 25,
     "metadata": {},
     "output_type": "execute_result"
    }
   ],
   "source": [
    "beginnings = []\n",
    "for sent in spacy_closest_sent(sentences, \"I'm depressed.\"):\n",
    "    beginnings.append(\" \".join(sent.text.split()))\n",
    "beginnings"
   ]
  },
  {
   "cell_type": "code",
   "execution_count": 24,
   "metadata": {},
   "outputs": [
    {
     "data": {
      "text/plain": [
       "['Maybe this will be ok.',\n",
       " 'I can take it.',\n",
       " 'There was nothing I could do.',\n",
       " 'Anyway, I should probably be getting back.',\n",
       " \"There's nothing I can do.\",\n",
       " 'No, I will.',\n",
       " 'Even if I wanted to.',\n",
       " \"I'll never understand that.\",\n",
       " 'or I can show you.',\n",
       " 'I think we should see other people.']"
      ]
     },
     "execution_count": 24,
     "metadata": {},
     "output_type": "execute_result"
    }
   ],
   "source": [
    "#answers = [sent for sent in spacy_closest_sent(sentences, \"I will be there.\")]\n",
    "answers = []\n",
    "for sent in spacy_closest_sent(sentences, \"I will be there.\"):\n",
    "    answers.append(\" \".join(sent.text.split()))\n",
    "answers"
   ]
  },
  {
   "cell_type": "code",
   "execution_count": 21,
   "metadata": {
    "collapsed": true
   },
   "outputs": [],
   "source": [
    "import random"
   ]
  },
  {
   "cell_type": "code",
   "execution_count": 26,
   "metadata": {
    "scrolled": true
   },
   "outputs": [
    {
     "name": "stdout",
     "output_type": "stream",
     "text": [
      "Google VA: I'm tired.\n",
      "ME: Maybe this will be ok.\n",
      "Google VA: I'm happy.\n",
      "ME: I can take it.\n",
      "Google VA: I'm happy.\n",
      "ME: There was nothing I could do.\n",
      "Google VA: I'm not pissed.\n",
      "ME: Anyway, I should probably be getting back.\n",
      "Google VA: I'm desperate.\n",
      "ME: There's nothing I can do.\n",
      "Google VA: I'm sorry.\n",
      "ME: No, I will.\n",
      "Google VA: I'm still unemployed.\n",
      "ME: Even if I wanted to.\n",
      "Google VA: I'm starving.\n",
      "ME: I'll never understand that.\n"
     ]
    }
   ],
   "source": [
    "for i in range(8):\n",
    "    print(\"Google VA:\",beginnings[i])\n",
    "    print(\"ME:\",answers[i])"
   ]
  },
  {
   "cell_type": "code",
   "execution_count": null,
   "metadata": {
    "collapsed": true
   },
   "outputs": [],
   "source": []
  }
 ],
 "metadata": {
  "kernelspec": {
   "display_name": "Python 3",
   "language": "python",
   "name": "python3"
  },
  "language_info": {
   "codemirror_mode": {
    "name": "ipython",
    "version": 3
   },
   "file_extension": ".py",
   "mimetype": "text/x-python",
   "name": "python",
   "nbconvert_exporter": "python",
   "pygments_lexer": "ipython3",
   "version": "3.6.3"
  }
 },
 "nbformat": 4,
 "nbformat_minor": 2
}
