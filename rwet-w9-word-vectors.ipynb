{
 "cells": [
  {
   "cell_type": "markdown",
   "metadata": {},
   "source": [
    "Google Assistant cannot take this love\n",
    "GVA:\"Hey, Wenqi, I'm depressed\" \n",
    "ME:\".....\" From moive corpora\n",
    "GVA: \"\" From github error message"
   ]
  },
  {
   "cell_type": "code",
   "execution_count": 1,
   "metadata": {},
   "outputs": [],
   "source": [
    "import spacy"
   ]
  },
  {
   "cell_type": "code",
   "execution_count": 2,
   "metadata": {
    "collapsed": true
   },
   "outputs": [],
   "source": [
    "nlp = spacy.load('en_core_web_md')"
   ]
  },
  {
   "cell_type": "code",
   "execution_count": 3,
   "metadata": {},
   "outputs": [],
   "source": [
    "doc = nlp(open(\"500daysofsummer.txt\").read())\n",
    "tokens = list(set([w.text for w in doc if w.is_alpha]))\n",
    "# tokens"
   ]
  },
  {
   "cell_type": "code",
   "execution_count": null,
   "metadata": {},
   "outputs": [],
   "source": [
    "nlp.vocab['kitten'].vector"
   ]
  },
  {
   "cell_type": "code",
   "execution_count": 4,
   "metadata": {
    "collapsed": true
   },
   "outputs": [],
   "source": [
    "def vec(s):\n",
    "    return nlp.vocab[s].vector"
   ]
  },
  {
   "cell_type": "code",
   "execution_count": 5,
   "metadata": {
    "collapsed": true
   },
   "outputs": [],
   "source": [
    "import numpy as np\n",
    "from numpy import dot\n",
    "from numpy.linalg import norm"
   ]
  },
  {
   "cell_type": "code",
   "execution_count": 6,
   "metadata": {
    "collapsed": true
   },
   "outputs": [],
   "source": [
    "def cosine(v1, v2):\n",
    "    if norm(v1) > 0 and norm(v2) > 0:\n",
    "        return dot(v1, v2) / (norm(v1) * norm(v2))\n",
    "    else:\n",
    "        return 0.0"
   ]
  },
  {
   "cell_type": "code",
   "execution_count": 7,
   "metadata": {
    "collapsed": true
   },
   "outputs": [],
   "source": [
    "def spacy_closest(token_list, vec_to_check, n=10):\n",
    "    return sorted(token_list,\n",
    "                 key=lambda x: cosine(vec_to_check, vec(x)),\n",
    "                 reverse=True)[:n]"
   ]
  },
  {
   "cell_type": "code",
   "execution_count": null,
   "metadata": {},
   "outputs": [],
   "source": [
    "spacy_closest(tokens, vec(\"depressed\"))"
   ]
  },
  {
   "cell_type": "code",
   "execution_count": 10,
   "metadata": {},
   "outputs": [],
   "source": [
    "def meanv(coords):\n",
    "    sumv = [0] * len(coords[0])\n",
    "    for item in coords:\n",
    "        for i in range(len(item)):\n",
    "            sumv[i] += item[i]\n",
    "    mean = [0] * len(sumv)\n",
    "    for i in range(len(sumv)):\n",
    "        mean[i] = float(sumv[i]) / len(coords)\n",
    "    return mean"
   ]
  },
  {
   "cell_type": "code",
   "execution_count": 11,
   "metadata": {},
   "outputs": [],
   "source": [
    "def sentvec(s):\n",
    "    sent = nlp(s)\n",
    "    return meanv([w.vector for w in sent])"
   ]
  },
  {
   "cell_type": "code",
   "execution_count": 12,
   "metadata": {
    "collapsed": true
   },
   "outputs": [],
   "source": [
    "sentences = list(doc.sents)"
   ]
  },
  {
   "cell_type": "code",
   "execution_count": 13,
   "metadata": {},
   "outputs": [],
   "source": [
    "def spacy_closest_sent(space, input_str, n=10):\n",
    "    input_vec = sentvec(input_str)\n",
    "    return sorted(space,\n",
    "                  key=lambda x: cosine(np.mean([w.vector for w in x], axis=0), input_vec), \n",
    "                  reverse=True)[:n]"
   ]
  },
  {
   "cell_type": "code",
   "execution_count": 14,
   "metadata": {},
   "outputs": [
    {
     "data": {
      "text/plain": [
       "[\"I'm tired.\",\n",
       " \"I'm happy.\",\n",
       " \"I'm happy.\",\n",
       " \"I'm not pissed.\",\n",
       " \"I'm desperate.\",\n",
       " \"I'm sorry.\",\n",
       " \"I'm still unemployed.\",\n",
       " \"I'm starving.\",\n",
       " \"I'm good.\",\n",
       " \"I'm good.\"]"
      ]
     },
     "execution_count": 14,
     "metadata": {},
     "output_type": "execute_result"
    }
   ],
   "source": [
    "beginnings = []\n",
    "for sent in spacy_closest_sent(sentences, \"I'm depressed.\"):\n",
    "    beginnings.append(\" \".join(sent.text.split()))\n",
    "beginnings"
   ]
  },
  {
   "cell_type": "code",
   "execution_count": 15,
   "metadata": {},
   "outputs": [
    {
     "data": {
      "text/plain": [
       "['Maybe this will be ok.',\n",
       " 'I can take it.',\n",
       " 'There was nothing I could do.',\n",
       " 'Anyway, I should probably be getting back.',\n",
       " \"There's nothing I can do.\",\n",
       " 'No, I will.',\n",
       " 'Even if I wanted to.',\n",
       " \"I'll never understand that.\",\n",
       " 'or I can show you.',\n",
       " 'I think we should see other people.']"
      ]
     },
     "execution_count": 15,
     "metadata": {},
     "output_type": "execute_result"
    }
   ],
   "source": [
    "#answers = [sent for sent in spacy_closest_sent(sentences, \"I will be there.\")]\n",
    "answers = []\n",
    "for sent in spacy_closest_sent(sentences, \"I will be there.\"):\n",
    "    answers.append(\" \".join(sent.text.split()))\n",
    "answers"
   ]
  },
  {
   "cell_type": "code",
   "execution_count": 16,
   "metadata": {
    "collapsed": true
   },
   "outputs": [],
   "source": [
    "import random"
   ]
  },
  {
   "cell_type": "code",
   "execution_count": 17,
   "metadata": {},
   "outputs": [
    {
     "name": "stdout",
     "output_type": "stream",
     "text": [
      "Google Voice Assistant: I'm tired.\n",
      "Me: No, I will.\n",
      "Google Voice Assistant: I'm sorry, I don't understand what you just said.\n",
      "\n",
      "Google Voice Assistant: I'm good.\n",
      "Me: There was nothing I could do.\n",
      "Google Voice Assistant: I'm sorry, I don't understand what you just said.\n",
      "\n",
      "Google Voice Assistant: I'm still unemployed.\n",
      "Me: There's nothing I can do.\n",
      "Google Voice Assistant: I'm sorry, I don't understand what you just said.\n",
      "\n",
      "Google Voice Assistant: I'm not pissed.\n",
      "Me: Maybe this will be ok.\n",
      "Google Voice Assistant: I'm sorry, I don't understand what you just said.\n",
      "\n",
      "Google Voice Assistant: I'm tired.\n",
      "Me: I can take it.\n",
      "Google Voice Assistant: I'm sorry, I don't understand what you just said.\n",
      "\n",
      "Google Voice Assistant: I'm not pissed.\n",
      "Me: or I can show you.\n",
      "Google Voice Assistant: I'm sorry, I don't understand what you just said.\n",
      "\n",
      "Google Voice Assistant: I'm happy.\n",
      "Me: No, I will.\n",
      "Google Voice Assistant: I'm sorry, I don't understand what you just said.\n",
      "\n",
      "Google Voice Assistant: I'm good.\n",
      "Me: Anyway, I should probably be getting back.\n",
      "Google Voice Assistant: I'm sorry, I don't understand what you just said.\n",
      "\n",
      "Google Voice Assistant: I'm tired.\n",
      "Me: I'll never understand that.\n",
      "Google Voice Assistant: I'm sorry, I don't understand what you just said.\n",
      "\n",
      "Google Voice Assistant: I'm happy.\n",
      "Me: or I can show you.\n",
      "Google Voice Assistant: I'm sorry, I don't understand what you just said.\n",
      "\n"
     ]
    }
   ],
   "source": [
    "for i in range(10):\n",
    "    print(\"Google Voice Assistant:\",random.choice(beginnings))\n",
    "    print(\"Me:\",random.choice(answers))\n",
    "    print(\"Google Voice Assistant: I'm sorry, I don't understand what you just said.\")\n",
    "    print()"
   ]
  },
  {
   "cell_type": "code",
   "execution_count": null,
   "metadata": {
    "collapsed": true
   },
   "outputs": [],
   "source": []
  }
 ],
 "metadata": {
  "kernelspec": {
   "display_name": "Python 3",
   "language": "python",
   "name": "python3"
  },
  "language_info": {
   "codemirror_mode": {
    "name": "ipython",
    "version": 3
   },
   "file_extension": ".py",
   "mimetype": "text/x-python",
   "name": "python",
   "nbconvert_exporter": "python",
   "pygments_lexer": "ipython3",
   "version": "3.6.3"
  }
 },
 "nbformat": 4,
 "nbformat_minor": 2
}
