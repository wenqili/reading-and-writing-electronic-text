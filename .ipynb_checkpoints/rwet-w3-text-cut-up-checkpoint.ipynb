{
 "cells": [
  {
   "cell_type": "markdown",
   "metadata": {},
   "source": [
    "### The digital cut-up. \n",
    "[Y] Create a notebook program that reads in two or more texts\n",
    "[Y] stores portions of them in Python data structures. \n",
    "[Y] The program should create textual output that creatively rearranges the contents of the text. \n",
    "[Y] Use functions from the random module as appropriate. \n",
    "[Y] You must use lists and dictionaries as part of your procedure. \n",
    "[Y] Choose one text that you created with your program to present in class."
   ]
  },
  {
   "cell_type": "markdown",
   "metadata": {},
   "source": [
    "#Subway campaign cut out"
   ]
  },
  {
   "cell_type": "markdown",
   "metadata": {},
   "source": [
    "# partly amusing, partly annoying, most subways campaign ends up being.\n",
    "# I picked up three ones that somehow I think reveal the New Yorkers lives.\n",
    "# I choose fiverr for working, also as the content.\n",
    "# I choose okcupid for dating, also as the content.\n",
    "# Final, I choose streetesay for apartment hunting, also I find the format of its campaign, the formula, is really fun. "
   ]
  },
  {
   "cell_type": "code",
   "execution_count": 20,
   "metadata": {
    "collapsed": true
   },
   "outputs": [],
   "source": [
    "import random"
   ]
  },
  {
   "cell_type": "code",
   "execution_count": 21,
   "metadata": {},
   "outputs": [],
   "source": [
    "fiverr = [line for line in open(\"fiverr.txt\")]\n",
    "okcupid = [line for line in open(\"okcupid.txt\")]\n",
    "streeteasy = [line for line in open(\"streeteasy.txt\")]"
   ]
  },
  {
   "cell_type": "code",
   "execution_count": 22,
   "metadata": {},
   "outputs": [],
   "source": [
    "fiverr_lines = [line.strip() for line in fiverr]\n",
    "okcupid_lines = [line.strip() for line in okcupid]\n",
    "streeteasy_lines = [line.strip() for line in streeteasy]"
   ]
  },
  {
   "cell_type": "code",
   "execution_count": 23,
   "metadata": {},
   "outputs": [],
   "source": [
    "okcupid_units = [term[8:len(term)-1] for term in okcupid_lines if 'Down to ' in term]"
   ]
  },
  {
   "cell_type": "code",
   "execution_count": 24,
   "metadata": {},
   "outputs": [],
   "source": [
    "streeteasy_units = [term.replace(\"I’m\", \"you’re\") for term in streeteasy_lines]\n",
    "streeteasy_units = [term.replace(\"I’ll\", \"You‘ll\") for term in streeteasy_units]\n",
    "streeteasy_units = [term.replace(\" me \", \" you \") for term in streeteasy_units]\n",
    "streeteasy_units = [term.replace(\" me.\", \" you.\") for term in streeteasy_units]\n",
    "streeteasy_units = [term.replace(\"I \", \"you \") for term in streeteasy_units]\n",
    "streeteasy_units = [term.replace(\" my \", \" your \") for term in streeteasy_units]"
   ]
  },
  {
   "cell_type": "code",
   "execution_count": 25,
   "metadata": {},
   "outputs": [],
   "source": [
    "form = random.sample(streeteasy_units, 1)"
   ]
  },
  {
   "cell_type": "code",
   "execution_count": 26,
   "metadata": {},
   "outputs": [],
   "source": [
    "words = form[0].split(\" \")\n",
    "for i in range(len(words)):\n",
    "    if '[]' in words[i]:\n",
    "        words[i] = '[]'\n",
    "    elif '.' in words[i]:\n",
    "        words[i] = words[i][:len(words[i])-1]"
   ]
  },
  {
   "cell_type": "code",
   "execution_count": 27,
   "metadata": {},
   "outputs": [],
   "source": [
    "clean = [word.replace('[]', random.sample(okcupid_units, 1)[0]) for word in words]\n",
    "# random.shuffle(clean)"
   ]
  },
  {
   "cell_type": "code",
   "execution_count": 28,
   "metadata": {},
   "outputs": [],
   "source": [
    "pick_lines = random.sample(fiverr_lines, 4)"
   ]
  },
  {
   "cell_type": "code",
   "execution_count": 29,
   "metadata": {},
   "outputs": [
    {
     "name": "stdout",
     "output_type": "stream",
     "text": [
      "  Actually, it hasn't all ben done before.\n",
      "    Hashtag it.\n",
      "      You might be a doer.\n",
      "        You eat a coffee for lunch.\n",
      "          a them can’t you football vs. futbol back you come dishes have prefer because to firepit and send a out clean.\n"
     ]
    }
   ],
   "source": [
    "print(\"  \"+pick_lines[0])\n",
    "print(\"    \"+pick_lines[1])\n",
    "print(\"      \"+pick_lines[2])\n",
    "print(\"        \"+pick_lines[3])\n",
    "print(\"          \"+\" \".join(clean)+\".\")"
   ]
  }
 ],
 "metadata": {
  "kernelspec": {
   "display_name": "Python 3",
   "language": "python",
   "name": "python3"
  },
  "language_info": {
   "codemirror_mode": {
    "name": "ipython",
    "version": 3
   },
   "file_extension": ".py",
   "mimetype": "text/x-python",
   "name": "python",
   "nbconvert_exporter": "python",
   "pygments_lexer": "ipython3",
   "version": "3.6.3"
  }
 },
 "nbformat": 4,
 "nbformat_minor": 2
}
