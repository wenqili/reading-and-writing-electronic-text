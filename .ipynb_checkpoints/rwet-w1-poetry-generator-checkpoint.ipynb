{
 "cells": [
  {
   "cell_type": "markdown",
   "metadata": {},
   "source": [
    "# Thank you letter generator ~ Re-implementations of early and well-known poetry generators\n",
    "\n",
    "By [Wenqi Li](http://www.wenqili.com/)\n",
    "\n",
    "This notebook has a Python implementation of Strachey's love letter generator."
   ]
  },
  {
   "cell_type": "markdown",
   "metadata": {},
   "source": [
    "## Thank You Letter Generator\n",
    "\n",
    "Original by Christopher Strachey, written for the Manchester Mark I in 1952. [Read more here](https://grandtextauto.soe.ucsc.edu/2005/08/01/christopher-strachey-first-digital-artist/).\n",
    "\n",
    "Vocabulary based on [this implementation](https://github.com/gingerbeardman/loveletter/blob/master/index.php)."
   ]
  },
  {
   "cell_type": "code",
   "execution_count": 514,
   "metadata": {},
   "outputs": [],
   "source": [
    "import random"
   ]
  },
  {
   "cell_type": "code",
   "execution_count": 515,
   "metadata": {
    "collapsed": true
   },
   "outputs": [],
   "source": [
    "sal_adjs = [\n",
    "    \"Hiiiii\",\n",
    "    \"Hi\",\n",
    "    \"Dear\",\n",
    "    \"Dearest\"]"
   ]
  },
  {
   "cell_type": "code",
   "execution_count": 516,
   "metadata": {
    "collapsed": true
   },
   "outputs": [],
   "source": [
    "sal_nouns = [\n",
    "    \"Squarespace Team\",\n",
    "    \"Are.na Team\",\n",
    "    \"Linkedin Team\",\n",
    "    \"Chase App Team\",\n",
    "    \"Adobe Team\",\n",
    "    \"Things Cloud Team\",\n",
    "    \"Chrome Team\",\n",
    "    \"Spotify Team\",\n",
    "    \"Processing Team\",\n",
    "    \"Grammerly Team\",\n",
    "    \"Starbucks Team\",\n",
    "    \"1Password Team\",\n",
    "    \"Twitter Team\",\n",
    "    \"Github Team\",\n",
    "    \"Grindr Team\"]"
   ]
  },
  {
   "cell_type": "code",
   "execution_count": 517,
   "metadata": {
    "collapsed": true
   },
   "outputs": [],
   "source": [
    "neg_adjs = [\n",
    "    'urgent',\n",
    "    'careless',\n",
    "    'anxious',\n",
    "    'numeric',\n",
    "    'absurd',\n",
    "    'unbelievable',\n",
    "    'doleful',\n",
    "    'incurable',\n",
    "    'inexperienced',\n",
    "    'shabby',\n",
    "    'dry',\n",
    "    'miserable',\n",
    "    'critical',\n",
    "    'cursory',\n",
    "    'slipshod',\n",
    "    'slapdash',\n",
    "    'inaccessible',\n",
    "    'intricate',\n",
    "    'incorrigible'\n",
    "]"
   ]
  },
  {
   "cell_type": "code",
   "execution_count": 518,
   "metadata": {
    "collapsed": true
   },
   "outputs": [],
   "source": [
    "pos_adjs = [\n",
    "    'professional',\n",
    "    'easy',\n",
    "    'efficient',\n",
    "    'practical',\n",
    "    'delightful',\n",
    "    'fast',\n",
    "    'light',\n",
    "    'automated',\n",
    "    'superpowered',\n",
    "    'lean',\n",
    "    'excellent',\n",
    "    'visual',\n",
    "    'gamifying',\n",
    "    'simple',\n",
    "    'advanced',\n",
    "    'friendly',\n",
    "    'one and the only',\n",
    "    'powerful'\n",
    "]"
   ]
  },
  {
   "cell_type": "code",
   "execution_count": 519,
   "metadata": {
    "collapsed": true
   },
   "outputs": [],
   "source": [
    "nouns = [\n",
    "    'desktop',\n",
    "    'macbook',\n",
    "    'drawing skill',\n",
    "    'writing',\n",
    "    'code',\n",
    "    'being',\n",
    "    'notes',\n",
    "    'blogs',\n",
    "    'to-do list',\n",
    "    'calender',\n",
    "    'emails',\n",
    "    'reposoitories',\n",
    "    'documentation',\n",
    "    'research',\n",
    "    'paper',\n",
    "    'time',\n",
    "    'projects',\n",
    "    'password',\n",
    "    'account',\n",
    "    'grammer',\n",
    "    'files',\n",
    "    'local host'\n",
    "]"
   ]
  },
  {
   "cell_type": "code",
   "execution_count": 520,
   "metadata": {
    "collapsed": true
   },
   "outputs": [],
   "source": [
    "product_nouns = [\n",
    "    'service',\n",
    "    'product',\n",
    "    'AI',\n",
    "    'professional',\n",
    "    'app',\n",
    "    'channel',\n",
    "    'platform',\n",
    "    'Virtual Reality',\n",
    "    'interface',\n",
    "    'interaction design',\n",
    "    'details',\n",
    "    'idea',\n",
    "    'user experience',\n",
    "    'quality',\n",
    "    'sales',\n",
    "    'data',\n",
    "    'content',\n",
    "    'subscription',\n",
    "    'shortcuts',\n",
    "]"
   ]
  },
  {
   "cell_type": "code",
   "execution_count": 521,
   "metadata": {
    "collapsed": true
   },
   "outputs": [],
   "source": [
    "advs = [\n",
    "    'affectionately',\n",
    "    'ardently',\n",
    "    'anxiously',\n",
    "    'beautifully',\n",
    "    'burningly',\n",
    "    'covetously',\n",
    "    'curiously',\n",
    "    'eagerly',\n",
    "    'fervently',\n",
    "    'fondly',\n",
    "    'impatiently',\n",
    "    'keenly',\n",
    "    'lovingly',\n",
    "    'passionately',\n",
    "    'seductively',\n",
    "    'tenderly',\n",
    "    'wistfully'\n",
    "]"
   ]
  },
  {
   "cell_type": "code",
   "execution_count": 522,
   "metadata": {
    "collapsed": true
   },
   "outputs": [],
   "source": [
    "verbs = [\n",
    "    'adores',\n",
    "    'attracts',\n",
    "    'clings to',\n",
    "    'holds dear',\n",
    "    'hopes for',\n",
    "    'hungers for',\n",
    "    'likes',\n",
    "    'longs for',\n",
    "    'loves',\n",
    "    'lusts after',\n",
    "    'pants for',\n",
    "    'pines for',\n",
    "    'sighs for',\n",
    "    'tempts',\n",
    "    'thirsts for',\n",
    "    'treasures',\n",
    "    'yearns for',\n",
    "    'woos'\n",
    "]"
   ]
  },
  {
   "cell_type": "code",
   "execution_count": 523,
   "metadata": {
    "collapsed": true
   },
   "outputs": [],
   "source": [
    "offers = [\n",
    "    'student offer',\n",
    "    'free subscriptions',\n",
    "    'free trial',\n",
    "    'education discount',\n",
    "    'premium trial',\n",
    "    'open positions'\n",
    "]"
   ]
  },
  {
   "cell_type": "code",
   "execution_count": 524,
   "metadata": {},
   "outputs": [
    {
     "name": "stdout",
     "output_type": "stream",
     "text": [
      "Hi Github Team,\n",
      "\n",
      "You are my efficient writing: my friendly account: my light\n",
      "calender: my automated reposoitories: my excellent local\n",
      "host.\n",
      "\n",
      "Do you have free subscriptions?\n",
      "\n",
      "Yours fervently,\n",
      "Eric\n"
     ]
    }
   ],
   "source": [
    "# textwrap library used to \"wrap\" the text at a particular length\n",
    "import textwrap\n",
    "\n",
    "# output begins with salutation\n",
    "output = random.choice(sal_adjs) + \" \" + random.choice(sal_nouns) + \",\\n\"\n",
    "output += \"\\n\"\n",
    "\n",
    "# inside this loop, build the phrases. strachey implemented \"short\" phrases\n",
    "# and \"long\" phrases; two or more \"short\" phrases in a row have special\n",
    "# formatting rules, so we need to know what the last phrase kind was in\n",
    "# order to generate the output.\n",
    "history = []\n",
    "body = \"\"\n",
    "for i in range(5):\n",
    "    kind = random.choice([\"short\", \"long\"])\n",
    "    if kind == \"long\":\n",
    "        # adjectives and adverbs will be present only 50% of the time\n",
    "        line = \" \".join([\n",
    "            \"My\",\n",
    "            random.choice([random.choice(neg_adjs), \"\"]),\n",
    "            random.choice(nouns),\n",
    "            random.choice([random.choice(advs), \"\"]),\n",
    "            random.choice(verbs),\n",
    "            \"your\",\n",
    "            random.choice([random.choice(pos_adjs), \"\"]),\n",
    "            random.choice(product_nouns)])\n",
    "        body += line\n",
    "    else:\n",
    "        adj_noun = random.choice(pos_adjs) + \" \" + random.choice(nouns)\n",
    "        # if the last phrase was \"short,\" use truncated form\n",
    "        if len(history) > 0 and history[-1] == \"short\":\n",
    "            body += \": my \" + adj_noun\n",
    "        else:\n",
    "            body += \"You are my \" + adj_noun\n",
    "    body += \". \"\n",
    "    history.append(kind)\n",
    "# clean up output\n",
    "body = body.replace(\"  \", \" \")\n",
    "body = body.replace(\". :\", \":\")\n",
    "# put everything together\n",
    "output += textwrap.fill(body, 60)\n",
    "output += \"\\n\\nDo you have \" + random.choice(offers) + \"?\"\n",
    "output += \"\\n\\nYours \" + random.choice(advs) + \",\\n\"\n",
    "output += \"Eric\"\n",
    "print(output)"
   ]
  }
 ],
 "metadata": {
  "kernelspec": {
   "display_name": "Python 3",
   "language": "python",
   "name": "python3"
  },
  "language_info": {
   "codemirror_mode": {
    "name": "ipython",
    "version": 3
   },
   "file_extension": ".py",
   "mimetype": "text/x-python",
   "name": "python",
   "nbconvert_exporter": "python",
   "pygments_lexer": "ipython3",
   "version": "3.6.3"
  }
 },
 "nbformat": 4,
 "nbformat_minor": 2
}
